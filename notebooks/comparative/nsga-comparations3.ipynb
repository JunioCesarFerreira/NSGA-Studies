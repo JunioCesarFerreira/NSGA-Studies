{
 "cells": [
  {
   "cell_type": "markdown",
   "id": "1e69211e",
   "metadata": {},
   "source": []
  },
  {
   "cell_type": "code",
   "execution_count": 3,
   "id": "de784d00",
   "metadata": {},
   "outputs": [],
   "source": [
    "import sys\n",
    "import os\n",
    "\n",
    "# Adiciona o diretório base ao sys.path\n",
    "project_path = os.path.abspath(os.path.join(os.getcwd(), \"../..\"))  # Ajuste conforme a localização do notebook\n",
    "if project_path not in sys.path:\n",
    "    sys.path.insert(0, project_path)\n",
    "\n",
    "from modules.plot_solutions import plot_solutions\n",
    "from modules.nsga2 import nsga2_func\n",
    "from modules.nsga3 import nsga3_func\n",
    "from modules.nsga3_deap import nsga3_deap_func\n",
    "from modules.nsga3_pymoo import nsga3_pymoo_func"
   ]
  },
  {
   "cell_type": "code",
   "execution_count": null,
   "id": "bcaa10f7",
   "metadata": {},
   "outputs": [],
   "source": [
    "def func1_2d(x):\n",
    "    return x[0]**2\n",
    "\n",
    "def func2_2d(x):\n",
    "    return (x[0] - 2)**2"
   ]
  },
  {
   "cell_type": "code",
   "execution_count": null,
   "id": "b64e3497",
   "metadata": {},
   "outputs": [],
   "source": [
    "bounds_2d = [(-5, 5)]\n",
    "functions_2d = [func1_2d, func2_2d]\n",
    "NUM_GEN = 16\n",
    "POP_SIZE = 52"
   ]
  },
  {
   "cell_type": "code",
   "execution_count": null,
   "id": "0d6c7ce3",
   "metadata": {},
   "outputs": [],
   "source": [
    "import random\n",
    "import numpy as np\n",
    "\n",
    "def simple_crossover(parent1, parent2):\n",
    "    w = random.uniform(0, 1)\n",
    "    child1 = w*parent1 + (1-w)*parent2\n",
    "    w = random.uniform(0, 1)\n",
    "    child2 = w*parent1 + (1-w)*parent2\n",
    "    return (child1, child2)\n",
    "\n",
    "def simple_mutation(individual, bounds):\n",
    "    if random.random() < 0.5: # mutation rate\n",
    "        for i in range(len(individual)):\n",
    "            individual[i] += random.uniform(-0.1, 0.1)\n",
    "            individual[i] = np.clip(individual[i], bounds[i][0], bounds[i][1])\n",
    "    return individual\n"
   ]
  },
  {
   "cell_type": "code",
   "execution_count": null,
   "id": "74028345",
   "metadata": {},
   "outputs": [],
   "source": [
    "import random\n",
    "import numpy as np\n",
    "\n",
    "initial_population = [\n",
    "            np.array([random.uniform(b[0], b[1]) for b in bounds_2d])\n",
    "            for _ in range(POP_SIZE)\n",
    "        ]"
   ]
  },
  {
   "cell_type": "code",
   "execution_count": null,
   "id": "72e9cb2b",
   "metadata": {},
   "outputs": [],
   "source": [
    "pareto_front_my_nsga2 = nsga2_func(\n",
    "    POP_SIZE, \n",
    "    NUM_GEN, \n",
    "    bounds_2d, \n",
    "    functions_2d, \n",
    "    simple_crossover, \n",
    "    simple_mutation,\n",
    "    initial_population)\n",
    "\n",
    "plot_solutions(pareto_front_my_nsga2)"
   ]
  },
  {
   "cell_type": "code",
   "execution_count": null,
   "id": "b34fcf06",
   "metadata": {},
   "outputs": [],
   "source": [
    "pareto_front_my_nsga3 = nsga3_func(\n",
    "    POP_SIZE, \n",
    "    NUM_GEN, \n",
    "    bounds_2d, \n",
    "    functions_2d, \n",
    "    simple_crossover, \n",
    "    simple_mutation,\n",
    "    initial_population)\n",
    "\n",
    "plot_solutions(pareto_front_my_nsga3)"
   ]
  }
 ],
 "metadata": {
  "kernelspec": {
   "display_name": "Python 3",
   "language": "python",
   "name": "python3"
  },
  "language_info": {
   "codemirror_mode": {
    "name": "ipython",
    "version": 3
   },
   "file_extension": ".py",
   "mimetype": "text/x-python",
   "name": "python",
   "nbconvert_exporter": "python",
   "pygments_lexer": "ipython3",
   "version": "3.12.1"
  }
 },
 "nbformat": 4,
 "nbformat_minor": 5
}
